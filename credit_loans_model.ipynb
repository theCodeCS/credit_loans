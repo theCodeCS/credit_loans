{
 "cells": [
  {
   "cell_type": "code",
   "execution_count": 9,
   "metadata": {},
   "outputs": [],
   "source": [
    "import numpy as np\n",
    "import pandas as pd\n",
    "import matplotlib.pyplot as plt\n",
    "import seaborn as sns\n",
    "from sklearn.model_selection import train_test_split\n",
    "\n",
    "%matplotlib inline"
   ]
  },
  {
   "cell_type": "code",
   "execution_count": 10,
   "metadata": {},
   "outputs": [],
   "source": [
    "df = pd.read_csv('updated_bankchurners.csv')"
   ]
  },
  {
   "cell_type": "markdown",
   "metadata": {},
   "source": [
    "##### <b>Business Question</b>: A business manager of a consumer credit card portfolio is facing the problem of customer attrition. They want to analyze the data to find out the reason behind this and leverage the same to predict customers who are likely to drop off."
   ]
  },
  {
   "cell_type": "markdown",
   "metadata": {},
   "source": [
    "# Preprocessing our dataset"
   ]
  },
  {
   "cell_type": "code",
   "execution_count": 11,
   "metadata": {},
   "outputs": [
    {
     "data": {
      "text/plain": [
       "(10127, 21)"
      ]
     },
     "execution_count": 11,
     "metadata": {},
     "output_type": "execute_result"
    }
   ],
   "source": [
    "df.shape"
   ]
  },
  {
   "cell_type": "code",
   "execution_count": 12,
   "metadata": {},
   "outputs": [
    {
     "data": {
      "text/html": [
       "<div>\n",
       "<style scoped>\n",
       "    .dataframe tbody tr th:only-of-type {\n",
       "        vertical-align: middle;\n",
       "    }\n",
       "\n",
       "    .dataframe tbody tr th {\n",
       "        vertical-align: top;\n",
       "    }\n",
       "\n",
       "    .dataframe thead th {\n",
       "        text-align: right;\n",
       "    }\n",
       "</style>\n",
       "<table border=\"1\" class=\"dataframe\">\n",
       "  <thead>\n",
       "    <tr style=\"text-align: right;\">\n",
       "      <th></th>\n",
       "      <th>CLIENTNUM</th>\n",
       "      <th>Attrition_Flag</th>\n",
       "      <th>Customer_Age</th>\n",
       "      <th>Gender</th>\n",
       "      <th>Dependent_count</th>\n",
       "      <th>Education_Level</th>\n",
       "      <th>Marital_Status</th>\n",
       "      <th>Income_Category</th>\n",
       "      <th>Card_Category</th>\n",
       "      <th>Months_on_book</th>\n",
       "      <th>...</th>\n",
       "      <th>Months_Inactive_12_mon</th>\n",
       "      <th>Contacts_Count_12_mon</th>\n",
       "      <th>Credit_Limit</th>\n",
       "      <th>Total_Revolving_Bal</th>\n",
       "      <th>Avg_Open_To_Buy</th>\n",
       "      <th>Total_Amt_Chng_Q4_Q1</th>\n",
       "      <th>Total_Trans_Amt</th>\n",
       "      <th>Total_Trans_Ct</th>\n",
       "      <th>Total_Ct_Chng_Q4_Q1</th>\n",
       "      <th>Avg_Utilization_Ratio</th>\n",
       "    </tr>\n",
       "  </thead>\n",
       "  <tbody>\n",
       "    <tr>\n",
       "      <th>0</th>\n",
       "      <td>768805383</td>\n",
       "      <td>Existing Customer</td>\n",
       "      <td>45</td>\n",
       "      <td>M</td>\n",
       "      <td>3</td>\n",
       "      <td>High School</td>\n",
       "      <td>Married</td>\n",
       "      <td>$60K - $80K</td>\n",
       "      <td>Blue</td>\n",
       "      <td>39</td>\n",
       "      <td>...</td>\n",
       "      <td>1</td>\n",
       "      <td>3</td>\n",
       "      <td>12691.0</td>\n",
       "      <td>777</td>\n",
       "      <td>11914.0</td>\n",
       "      <td>1.335</td>\n",
       "      <td>1144</td>\n",
       "      <td>42</td>\n",
       "      <td>1.625</td>\n",
       "      <td>0.061</td>\n",
       "    </tr>\n",
       "    <tr>\n",
       "      <th>1</th>\n",
       "      <td>818770008</td>\n",
       "      <td>Existing Customer</td>\n",
       "      <td>49</td>\n",
       "      <td>F</td>\n",
       "      <td>5</td>\n",
       "      <td>Graduate</td>\n",
       "      <td>Single</td>\n",
       "      <td>Less than $40K</td>\n",
       "      <td>Blue</td>\n",
       "      <td>44</td>\n",
       "      <td>...</td>\n",
       "      <td>1</td>\n",
       "      <td>2</td>\n",
       "      <td>8256.0</td>\n",
       "      <td>864</td>\n",
       "      <td>7392.0</td>\n",
       "      <td>1.541</td>\n",
       "      <td>1291</td>\n",
       "      <td>33</td>\n",
       "      <td>3.714</td>\n",
       "      <td>0.105</td>\n",
       "    </tr>\n",
       "    <tr>\n",
       "      <th>2</th>\n",
       "      <td>713982108</td>\n",
       "      <td>Existing Customer</td>\n",
       "      <td>51</td>\n",
       "      <td>M</td>\n",
       "      <td>3</td>\n",
       "      <td>Graduate</td>\n",
       "      <td>Married</td>\n",
       "      <td>$80K - $120K</td>\n",
       "      <td>Blue</td>\n",
       "      <td>36</td>\n",
       "      <td>...</td>\n",
       "      <td>1</td>\n",
       "      <td>0</td>\n",
       "      <td>3418.0</td>\n",
       "      <td>0</td>\n",
       "      <td>3418.0</td>\n",
       "      <td>2.594</td>\n",
       "      <td>1887</td>\n",
       "      <td>20</td>\n",
       "      <td>2.333</td>\n",
       "      <td>0.000</td>\n",
       "    </tr>\n",
       "    <tr>\n",
       "      <th>3</th>\n",
       "      <td>769911858</td>\n",
       "      <td>Existing Customer</td>\n",
       "      <td>40</td>\n",
       "      <td>F</td>\n",
       "      <td>4</td>\n",
       "      <td>High School</td>\n",
       "      <td>Unknown</td>\n",
       "      <td>Less than $40K</td>\n",
       "      <td>Blue</td>\n",
       "      <td>34</td>\n",
       "      <td>...</td>\n",
       "      <td>4</td>\n",
       "      <td>1</td>\n",
       "      <td>3313.0</td>\n",
       "      <td>2517</td>\n",
       "      <td>796.0</td>\n",
       "      <td>1.405</td>\n",
       "      <td>1171</td>\n",
       "      <td>20</td>\n",
       "      <td>2.333</td>\n",
       "      <td>0.760</td>\n",
       "    </tr>\n",
       "    <tr>\n",
       "      <th>4</th>\n",
       "      <td>709106358</td>\n",
       "      <td>Existing Customer</td>\n",
       "      <td>40</td>\n",
       "      <td>M</td>\n",
       "      <td>3</td>\n",
       "      <td>Uneducated</td>\n",
       "      <td>Married</td>\n",
       "      <td>$60K - $80K</td>\n",
       "      <td>Blue</td>\n",
       "      <td>21</td>\n",
       "      <td>...</td>\n",
       "      <td>1</td>\n",
       "      <td>0</td>\n",
       "      <td>4716.0</td>\n",
       "      <td>0</td>\n",
       "      <td>4716.0</td>\n",
       "      <td>2.175</td>\n",
       "      <td>816</td>\n",
       "      <td>28</td>\n",
       "      <td>2.500</td>\n",
       "      <td>0.000</td>\n",
       "    </tr>\n",
       "    <tr>\n",
       "      <th>5</th>\n",
       "      <td>713061558</td>\n",
       "      <td>Existing Customer</td>\n",
       "      <td>44</td>\n",
       "      <td>M</td>\n",
       "      <td>2</td>\n",
       "      <td>Graduate</td>\n",
       "      <td>Married</td>\n",
       "      <td>$40K - $60K</td>\n",
       "      <td>Blue</td>\n",
       "      <td>36</td>\n",
       "      <td>...</td>\n",
       "      <td>1</td>\n",
       "      <td>2</td>\n",
       "      <td>4010.0</td>\n",
       "      <td>1247</td>\n",
       "      <td>2763.0</td>\n",
       "      <td>1.376</td>\n",
       "      <td>1088</td>\n",
       "      <td>24</td>\n",
       "      <td>0.846</td>\n",
       "      <td>0.311</td>\n",
       "    </tr>\n",
       "    <tr>\n",
       "      <th>6</th>\n",
       "      <td>810347208</td>\n",
       "      <td>Existing Customer</td>\n",
       "      <td>51</td>\n",
       "      <td>M</td>\n",
       "      <td>4</td>\n",
       "      <td>Unknown</td>\n",
       "      <td>Married</td>\n",
       "      <td>$120K +</td>\n",
       "      <td>Gold</td>\n",
       "      <td>46</td>\n",
       "      <td>...</td>\n",
       "      <td>1</td>\n",
       "      <td>3</td>\n",
       "      <td>34516.0</td>\n",
       "      <td>2264</td>\n",
       "      <td>32252.0</td>\n",
       "      <td>1.975</td>\n",
       "      <td>1330</td>\n",
       "      <td>31</td>\n",
       "      <td>0.722</td>\n",
       "      <td>0.066</td>\n",
       "    </tr>\n",
       "    <tr>\n",
       "      <th>7</th>\n",
       "      <td>818906208</td>\n",
       "      <td>Existing Customer</td>\n",
       "      <td>32</td>\n",
       "      <td>M</td>\n",
       "      <td>0</td>\n",
       "      <td>High School</td>\n",
       "      <td>Unknown</td>\n",
       "      <td>$60K - $80K</td>\n",
       "      <td>Silver</td>\n",
       "      <td>27</td>\n",
       "      <td>...</td>\n",
       "      <td>2</td>\n",
       "      <td>2</td>\n",
       "      <td>29081.0</td>\n",
       "      <td>1396</td>\n",
       "      <td>27685.0</td>\n",
       "      <td>2.204</td>\n",
       "      <td>1538</td>\n",
       "      <td>36</td>\n",
       "      <td>0.714</td>\n",
       "      <td>0.048</td>\n",
       "    </tr>\n",
       "    <tr>\n",
       "      <th>8</th>\n",
       "      <td>710930508</td>\n",
       "      <td>Existing Customer</td>\n",
       "      <td>37</td>\n",
       "      <td>M</td>\n",
       "      <td>3</td>\n",
       "      <td>Uneducated</td>\n",
       "      <td>Single</td>\n",
       "      <td>$60K - $80K</td>\n",
       "      <td>Blue</td>\n",
       "      <td>36</td>\n",
       "      <td>...</td>\n",
       "      <td>2</td>\n",
       "      <td>0</td>\n",
       "      <td>22352.0</td>\n",
       "      <td>2517</td>\n",
       "      <td>19835.0</td>\n",
       "      <td>3.355</td>\n",
       "      <td>1350</td>\n",
       "      <td>24</td>\n",
       "      <td>1.182</td>\n",
       "      <td>0.113</td>\n",
       "    </tr>\n",
       "    <tr>\n",
       "      <th>9</th>\n",
       "      <td>719661558</td>\n",
       "      <td>Existing Customer</td>\n",
       "      <td>48</td>\n",
       "      <td>M</td>\n",
       "      <td>2</td>\n",
       "      <td>Graduate</td>\n",
       "      <td>Single</td>\n",
       "      <td>$80K - $120K</td>\n",
       "      <td>Blue</td>\n",
       "      <td>36</td>\n",
       "      <td>...</td>\n",
       "      <td>3</td>\n",
       "      <td>3</td>\n",
       "      <td>11656.0</td>\n",
       "      <td>1677</td>\n",
       "      <td>9979.0</td>\n",
       "      <td>1.524</td>\n",
       "      <td>1441</td>\n",
       "      <td>32</td>\n",
       "      <td>0.882</td>\n",
       "      <td>0.144</td>\n",
       "    </tr>\n",
       "    <tr>\n",
       "      <th>10</th>\n",
       "      <td>708790833</td>\n",
       "      <td>Existing Customer</td>\n",
       "      <td>42</td>\n",
       "      <td>M</td>\n",
       "      <td>5</td>\n",
       "      <td>Uneducated</td>\n",
       "      <td>Unknown</td>\n",
       "      <td>$120K +</td>\n",
       "      <td>Blue</td>\n",
       "      <td>31</td>\n",
       "      <td>...</td>\n",
       "      <td>3</td>\n",
       "      <td>2</td>\n",
       "      <td>6748.0</td>\n",
       "      <td>1467</td>\n",
       "      <td>5281.0</td>\n",
       "      <td>0.831</td>\n",
       "      <td>1201</td>\n",
       "      <td>42</td>\n",
       "      <td>0.680</td>\n",
       "      <td>0.217</td>\n",
       "    </tr>\n",
       "    <tr>\n",
       "      <th>11</th>\n",
       "      <td>710821833</td>\n",
       "      <td>Existing Customer</td>\n",
       "      <td>65</td>\n",
       "      <td>M</td>\n",
       "      <td>1</td>\n",
       "      <td>Unknown</td>\n",
       "      <td>Married</td>\n",
       "      <td>$40K - $60K</td>\n",
       "      <td>Blue</td>\n",
       "      <td>54</td>\n",
       "      <td>...</td>\n",
       "      <td>2</td>\n",
       "      <td>3</td>\n",
       "      <td>9095.0</td>\n",
       "      <td>1587</td>\n",
       "      <td>7508.0</td>\n",
       "      <td>1.433</td>\n",
       "      <td>1314</td>\n",
       "      <td>26</td>\n",
       "      <td>1.364</td>\n",
       "      <td>0.174</td>\n",
       "    </tr>\n",
       "    <tr>\n",
       "      <th>12</th>\n",
       "      <td>710599683</td>\n",
       "      <td>Existing Customer</td>\n",
       "      <td>56</td>\n",
       "      <td>M</td>\n",
       "      <td>1</td>\n",
       "      <td>Graduate</td>\n",
       "      <td>Single</td>\n",
       "      <td>$80K - $120K</td>\n",
       "      <td>Blue</td>\n",
       "      <td>36</td>\n",
       "      <td>...</td>\n",
       "      <td>6</td>\n",
       "      <td>0</td>\n",
       "      <td>11751.0</td>\n",
       "      <td>0</td>\n",
       "      <td>11751.0</td>\n",
       "      <td>3.397</td>\n",
       "      <td>1539</td>\n",
       "      <td>17</td>\n",
       "      <td>3.250</td>\n",
       "      <td>0.000</td>\n",
       "    </tr>\n",
       "    <tr>\n",
       "      <th>13</th>\n",
       "      <td>816082233</td>\n",
       "      <td>Existing Customer</td>\n",
       "      <td>35</td>\n",
       "      <td>M</td>\n",
       "      <td>3</td>\n",
       "      <td>Graduate</td>\n",
       "      <td>Unknown</td>\n",
       "      <td>$60K - $80K</td>\n",
       "      <td>Blue</td>\n",
       "      <td>30</td>\n",
       "      <td>...</td>\n",
       "      <td>1</td>\n",
       "      <td>3</td>\n",
       "      <td>8547.0</td>\n",
       "      <td>1666</td>\n",
       "      <td>6881.0</td>\n",
       "      <td>1.163</td>\n",
       "      <td>1311</td>\n",
       "      <td>33</td>\n",
       "      <td>2.000</td>\n",
       "      <td>0.195</td>\n",
       "    </tr>\n",
       "    <tr>\n",
       "      <th>14</th>\n",
       "      <td>712396908</td>\n",
       "      <td>Existing Customer</td>\n",
       "      <td>57</td>\n",
       "      <td>F</td>\n",
       "      <td>2</td>\n",
       "      <td>Graduate</td>\n",
       "      <td>Married</td>\n",
       "      <td>Less than $40K</td>\n",
       "      <td>Blue</td>\n",
       "      <td>48</td>\n",
       "      <td>...</td>\n",
       "      <td>2</td>\n",
       "      <td>2</td>\n",
       "      <td>2436.0</td>\n",
       "      <td>680</td>\n",
       "      <td>1756.0</td>\n",
       "      <td>1.190</td>\n",
       "      <td>1570</td>\n",
       "      <td>29</td>\n",
       "      <td>0.611</td>\n",
       "      <td>0.279</td>\n",
       "    </tr>\n",
       "    <tr>\n",
       "      <th>15</th>\n",
       "      <td>714885258</td>\n",
       "      <td>Existing Customer</td>\n",
       "      <td>44</td>\n",
       "      <td>M</td>\n",
       "      <td>4</td>\n",
       "      <td>Unknown</td>\n",
       "      <td>Unknown</td>\n",
       "      <td>$80K - $120K</td>\n",
       "      <td>Blue</td>\n",
       "      <td>37</td>\n",
       "      <td>...</td>\n",
       "      <td>1</td>\n",
       "      <td>2</td>\n",
       "      <td>4234.0</td>\n",
       "      <td>972</td>\n",
       "      <td>3262.0</td>\n",
       "      <td>1.707</td>\n",
       "      <td>1348</td>\n",
       "      <td>27</td>\n",
       "      <td>1.700</td>\n",
       "      <td>0.230</td>\n",
       "    </tr>\n",
       "    <tr>\n",
       "      <th>16</th>\n",
       "      <td>709967358</td>\n",
       "      <td>Existing Customer</td>\n",
       "      <td>48</td>\n",
       "      <td>M</td>\n",
       "      <td>4</td>\n",
       "      <td>Post-Graduate</td>\n",
       "      <td>Single</td>\n",
       "      <td>$80K - $120K</td>\n",
       "      <td>Blue</td>\n",
       "      <td>36</td>\n",
       "      <td>...</td>\n",
       "      <td>2</td>\n",
       "      <td>3</td>\n",
       "      <td>30367.0</td>\n",
       "      <td>2362</td>\n",
       "      <td>28005.0</td>\n",
       "      <td>1.708</td>\n",
       "      <td>1671</td>\n",
       "      <td>27</td>\n",
       "      <td>0.929</td>\n",
       "      <td>0.078</td>\n",
       "    </tr>\n",
       "    <tr>\n",
       "      <th>17</th>\n",
       "      <td>753327333</td>\n",
       "      <td>Existing Customer</td>\n",
       "      <td>41</td>\n",
       "      <td>M</td>\n",
       "      <td>3</td>\n",
       "      <td>Unknown</td>\n",
       "      <td>Married</td>\n",
       "      <td>$80K - $120K</td>\n",
       "      <td>Blue</td>\n",
       "      <td>34</td>\n",
       "      <td>...</td>\n",
       "      <td>4</td>\n",
       "      <td>1</td>\n",
       "      <td>13535.0</td>\n",
       "      <td>1291</td>\n",
       "      <td>12244.0</td>\n",
       "      <td>0.653</td>\n",
       "      <td>1028</td>\n",
       "      <td>21</td>\n",
       "      <td>1.625</td>\n",
       "      <td>0.095</td>\n",
       "    </tr>\n",
       "    <tr>\n",
       "      <th>18</th>\n",
       "      <td>806160108</td>\n",
       "      <td>Existing Customer</td>\n",
       "      <td>61</td>\n",
       "      <td>M</td>\n",
       "      <td>1</td>\n",
       "      <td>High School</td>\n",
       "      <td>Married</td>\n",
       "      <td>$40K - $60K</td>\n",
       "      <td>Blue</td>\n",
       "      <td>56</td>\n",
       "      <td>...</td>\n",
       "      <td>2</td>\n",
       "      <td>3</td>\n",
       "      <td>3193.0</td>\n",
       "      <td>2517</td>\n",
       "      <td>676.0</td>\n",
       "      <td>1.831</td>\n",
       "      <td>1336</td>\n",
       "      <td>30</td>\n",
       "      <td>1.143</td>\n",
       "      <td>0.788</td>\n",
       "    </tr>\n",
       "    <tr>\n",
       "      <th>19</th>\n",
       "      <td>709327383</td>\n",
       "      <td>Existing Customer</td>\n",
       "      <td>45</td>\n",
       "      <td>F</td>\n",
       "      <td>2</td>\n",
       "      <td>Graduate</td>\n",
       "      <td>Married</td>\n",
       "      <td>Unknown</td>\n",
       "      <td>Blue</td>\n",
       "      <td>37</td>\n",
       "      <td>...</td>\n",
       "      <td>1</td>\n",
       "      <td>2</td>\n",
       "      <td>14470.0</td>\n",
       "      <td>1157</td>\n",
       "      <td>13313.0</td>\n",
       "      <td>0.966</td>\n",
       "      <td>1207</td>\n",
       "      <td>21</td>\n",
       "      <td>0.909</td>\n",
       "      <td>0.080</td>\n",
       "    </tr>\n",
       "    <tr>\n",
       "      <th>20</th>\n",
       "      <td>806165208</td>\n",
       "      <td>Existing Customer</td>\n",
       "      <td>47</td>\n",
       "      <td>M</td>\n",
       "      <td>1</td>\n",
       "      <td>Doctorate</td>\n",
       "      <td>Divorced</td>\n",
       "      <td>$60K - $80K</td>\n",
       "      <td>Blue</td>\n",
       "      <td>42</td>\n",
       "      <td>...</td>\n",
       "      <td>2</td>\n",
       "      <td>0</td>\n",
       "      <td>20979.0</td>\n",
       "      <td>1800</td>\n",
       "      <td>19179.0</td>\n",
       "      <td>0.906</td>\n",
       "      <td>1178</td>\n",
       "      <td>27</td>\n",
       "      <td>0.929</td>\n",
       "      <td>0.086</td>\n",
       "    </tr>\n",
       "    <tr>\n",
       "      <th>21</th>\n",
       "      <td>708508758</td>\n",
       "      <td>Attrited Customer</td>\n",
       "      <td>62</td>\n",
       "      <td>F</td>\n",
       "      <td>0</td>\n",
       "      <td>Graduate</td>\n",
       "      <td>Married</td>\n",
       "      <td>Less than $40K</td>\n",
       "      <td>Blue</td>\n",
       "      <td>49</td>\n",
       "      <td>...</td>\n",
       "      <td>3</td>\n",
       "      <td>3</td>\n",
       "      <td>1438.3</td>\n",
       "      <td>0</td>\n",
       "      <td>1438.3</td>\n",
       "      <td>1.047</td>\n",
       "      <td>692</td>\n",
       "      <td>16</td>\n",
       "      <td>0.600</td>\n",
       "      <td>0.000</td>\n",
       "    </tr>\n",
       "    <tr>\n",
       "      <th>22</th>\n",
       "      <td>784725333</td>\n",
       "      <td>Existing Customer</td>\n",
       "      <td>41</td>\n",
       "      <td>M</td>\n",
       "      <td>3</td>\n",
       "      <td>High School</td>\n",
       "      <td>Married</td>\n",
       "      <td>$40K - $60K</td>\n",
       "      <td>Blue</td>\n",
       "      <td>33</td>\n",
       "      <td>...</td>\n",
       "      <td>2</td>\n",
       "      <td>1</td>\n",
       "      <td>4470.0</td>\n",
       "      <td>680</td>\n",
       "      <td>3790.0</td>\n",
       "      <td>1.608</td>\n",
       "      <td>931</td>\n",
       "      <td>18</td>\n",
       "      <td>1.571</td>\n",
       "      <td>0.152</td>\n",
       "    </tr>\n",
       "    <tr>\n",
       "      <th>23</th>\n",
       "      <td>811604133</td>\n",
       "      <td>Existing Customer</td>\n",
       "      <td>47</td>\n",
       "      <td>F</td>\n",
       "      <td>4</td>\n",
       "      <td>Unknown</td>\n",
       "      <td>Single</td>\n",
       "      <td>Less than $40K</td>\n",
       "      <td>Blue</td>\n",
       "      <td>36</td>\n",
       "      <td>...</td>\n",
       "      <td>3</td>\n",
       "      <td>2</td>\n",
       "      <td>2492.0</td>\n",
       "      <td>1560</td>\n",
       "      <td>932.0</td>\n",
       "      <td>0.573</td>\n",
       "      <td>1126</td>\n",
       "      <td>23</td>\n",
       "      <td>0.353</td>\n",
       "      <td>0.626</td>\n",
       "    </tr>\n",
       "    <tr>\n",
       "      <th>24</th>\n",
       "      <td>789124683</td>\n",
       "      <td>Existing Customer</td>\n",
       "      <td>54</td>\n",
       "      <td>M</td>\n",
       "      <td>2</td>\n",
       "      <td>Unknown</td>\n",
       "      <td>Married</td>\n",
       "      <td>$80K - $120K</td>\n",
       "      <td>Blue</td>\n",
       "      <td>42</td>\n",
       "      <td>...</td>\n",
       "      <td>2</td>\n",
       "      <td>3</td>\n",
       "      <td>12217.0</td>\n",
       "      <td>0</td>\n",
       "      <td>12217.0</td>\n",
       "      <td>1.075</td>\n",
       "      <td>1110</td>\n",
       "      <td>21</td>\n",
       "      <td>0.750</td>\n",
       "      <td>0.000</td>\n",
       "    </tr>\n",
       "  </tbody>\n",
       "</table>\n",
       "<p>25 rows × 21 columns</p>\n",
       "</div>"
      ],
      "text/plain": [
       "    CLIENTNUM     Attrition_Flag  Customer_Age Gender  Dependent_count  \\\n",
       "0   768805383  Existing Customer            45      M                3   \n",
       "1   818770008  Existing Customer            49      F                5   \n",
       "2   713982108  Existing Customer            51      M                3   \n",
       "3   769911858  Existing Customer            40      F                4   \n",
       "4   709106358  Existing Customer            40      M                3   \n",
       "5   713061558  Existing Customer            44      M                2   \n",
       "6   810347208  Existing Customer            51      M                4   \n",
       "7   818906208  Existing Customer            32      M                0   \n",
       "8   710930508  Existing Customer            37      M                3   \n",
       "9   719661558  Existing Customer            48      M                2   \n",
       "10  708790833  Existing Customer            42      M                5   \n",
       "11  710821833  Existing Customer            65      M                1   \n",
       "12  710599683  Existing Customer            56      M                1   \n",
       "13  816082233  Existing Customer            35      M                3   \n",
       "14  712396908  Existing Customer            57      F                2   \n",
       "15  714885258  Existing Customer            44      M                4   \n",
       "16  709967358  Existing Customer            48      M                4   \n",
       "17  753327333  Existing Customer            41      M                3   \n",
       "18  806160108  Existing Customer            61      M                1   \n",
       "19  709327383  Existing Customer            45      F                2   \n",
       "20  806165208  Existing Customer            47      M                1   \n",
       "21  708508758  Attrited Customer            62      F                0   \n",
       "22  784725333  Existing Customer            41      M                3   \n",
       "23  811604133  Existing Customer            47      F                4   \n",
       "24  789124683  Existing Customer            54      M                2   \n",
       "\n",
       "   Education_Level Marital_Status Income_Category Card_Category  \\\n",
       "0      High School        Married     $60K - $80K          Blue   \n",
       "1         Graduate         Single  Less than $40K          Blue   \n",
       "2         Graduate        Married    $80K - $120K          Blue   \n",
       "3      High School        Unknown  Less than $40K          Blue   \n",
       "4       Uneducated        Married     $60K - $80K          Blue   \n",
       "5         Graduate        Married     $40K - $60K          Blue   \n",
       "6          Unknown        Married         $120K +          Gold   \n",
       "7      High School        Unknown     $60K - $80K        Silver   \n",
       "8       Uneducated         Single     $60K - $80K          Blue   \n",
       "9         Graduate         Single    $80K - $120K          Blue   \n",
       "10      Uneducated        Unknown         $120K +          Blue   \n",
       "11         Unknown        Married     $40K - $60K          Blue   \n",
       "12        Graduate         Single    $80K - $120K          Blue   \n",
       "13        Graduate        Unknown     $60K - $80K          Blue   \n",
       "14        Graduate        Married  Less than $40K          Blue   \n",
       "15         Unknown        Unknown    $80K - $120K          Blue   \n",
       "16   Post-Graduate         Single    $80K - $120K          Blue   \n",
       "17         Unknown        Married    $80K - $120K          Blue   \n",
       "18     High School        Married     $40K - $60K          Blue   \n",
       "19        Graduate        Married         Unknown          Blue   \n",
       "20       Doctorate       Divorced     $60K - $80K          Blue   \n",
       "21        Graduate        Married  Less than $40K          Blue   \n",
       "22     High School        Married     $40K - $60K          Blue   \n",
       "23         Unknown         Single  Less than $40K          Blue   \n",
       "24         Unknown        Married    $80K - $120K          Blue   \n",
       "\n",
       "    Months_on_book  ...  Months_Inactive_12_mon  Contacts_Count_12_mon  \\\n",
       "0               39  ...                       1                      3   \n",
       "1               44  ...                       1                      2   \n",
       "2               36  ...                       1                      0   \n",
       "3               34  ...                       4                      1   \n",
       "4               21  ...                       1                      0   \n",
       "5               36  ...                       1                      2   \n",
       "6               46  ...                       1                      3   \n",
       "7               27  ...                       2                      2   \n",
       "8               36  ...                       2                      0   \n",
       "9               36  ...                       3                      3   \n",
       "10              31  ...                       3                      2   \n",
       "11              54  ...                       2                      3   \n",
       "12              36  ...                       6                      0   \n",
       "13              30  ...                       1                      3   \n",
       "14              48  ...                       2                      2   \n",
       "15              37  ...                       1                      2   \n",
       "16              36  ...                       2                      3   \n",
       "17              34  ...                       4                      1   \n",
       "18              56  ...                       2                      3   \n",
       "19              37  ...                       1                      2   \n",
       "20              42  ...                       2                      0   \n",
       "21              49  ...                       3                      3   \n",
       "22              33  ...                       2                      1   \n",
       "23              36  ...                       3                      2   \n",
       "24              42  ...                       2                      3   \n",
       "\n",
       "    Credit_Limit  Total_Revolving_Bal  Avg_Open_To_Buy  Total_Amt_Chng_Q4_Q1  \\\n",
       "0        12691.0                  777          11914.0                 1.335   \n",
       "1         8256.0                  864           7392.0                 1.541   \n",
       "2         3418.0                    0           3418.0                 2.594   \n",
       "3         3313.0                 2517            796.0                 1.405   \n",
       "4         4716.0                    0           4716.0                 2.175   \n",
       "5         4010.0                 1247           2763.0                 1.376   \n",
       "6        34516.0                 2264          32252.0                 1.975   \n",
       "7        29081.0                 1396          27685.0                 2.204   \n",
       "8        22352.0                 2517          19835.0                 3.355   \n",
       "9        11656.0                 1677           9979.0                 1.524   \n",
       "10        6748.0                 1467           5281.0                 0.831   \n",
       "11        9095.0                 1587           7508.0                 1.433   \n",
       "12       11751.0                    0          11751.0                 3.397   \n",
       "13        8547.0                 1666           6881.0                 1.163   \n",
       "14        2436.0                  680           1756.0                 1.190   \n",
       "15        4234.0                  972           3262.0                 1.707   \n",
       "16       30367.0                 2362          28005.0                 1.708   \n",
       "17       13535.0                 1291          12244.0                 0.653   \n",
       "18        3193.0                 2517            676.0                 1.831   \n",
       "19       14470.0                 1157          13313.0                 0.966   \n",
       "20       20979.0                 1800          19179.0                 0.906   \n",
       "21        1438.3                    0           1438.3                 1.047   \n",
       "22        4470.0                  680           3790.0                 1.608   \n",
       "23        2492.0                 1560            932.0                 0.573   \n",
       "24       12217.0                    0          12217.0                 1.075   \n",
       "\n",
       "    Total_Trans_Amt  Total_Trans_Ct  Total_Ct_Chng_Q4_Q1  \\\n",
       "0              1144              42                1.625   \n",
       "1              1291              33                3.714   \n",
       "2              1887              20                2.333   \n",
       "3              1171              20                2.333   \n",
       "4               816              28                2.500   \n",
       "5              1088              24                0.846   \n",
       "6              1330              31                0.722   \n",
       "7              1538              36                0.714   \n",
       "8              1350              24                1.182   \n",
       "9              1441              32                0.882   \n",
       "10             1201              42                0.680   \n",
       "11             1314              26                1.364   \n",
       "12             1539              17                3.250   \n",
       "13             1311              33                2.000   \n",
       "14             1570              29                0.611   \n",
       "15             1348              27                1.700   \n",
       "16             1671              27                0.929   \n",
       "17             1028              21                1.625   \n",
       "18             1336              30                1.143   \n",
       "19             1207              21                0.909   \n",
       "20             1178              27                0.929   \n",
       "21              692              16                0.600   \n",
       "22              931              18                1.571   \n",
       "23             1126              23                0.353   \n",
       "24             1110              21                0.750   \n",
       "\n",
       "    Avg_Utilization_Ratio  \n",
       "0                   0.061  \n",
       "1                   0.105  \n",
       "2                   0.000  \n",
       "3                   0.760  \n",
       "4                   0.000  \n",
       "5                   0.311  \n",
       "6                   0.066  \n",
       "7                   0.048  \n",
       "8                   0.113  \n",
       "9                   0.144  \n",
       "10                  0.217  \n",
       "11                  0.174  \n",
       "12                  0.000  \n",
       "13                  0.195  \n",
       "14                  0.279  \n",
       "15                  0.230  \n",
       "16                  0.078  \n",
       "17                  0.095  \n",
       "18                  0.788  \n",
       "19                  0.080  \n",
       "20                  0.086  \n",
       "21                  0.000  \n",
       "22                  0.152  \n",
       "23                  0.626  \n",
       "24                  0.000  \n",
       "\n",
       "[25 rows x 21 columns]"
      ]
     },
     "execution_count": 12,
     "metadata": {},
     "output_type": "execute_result"
    }
   ],
   "source": [
    "df.head(25)"
   ]
  },
  {
   "cell_type": "code",
   "execution_count": 13,
   "metadata": {},
   "outputs": [
    {
     "name": "stdout",
     "output_type": "stream",
     "text": [
      "<class 'pandas.core.frame.DataFrame'>\n",
      "RangeIndex: 10127 entries, 0 to 10126\n",
      "Data columns (total 21 columns):\n",
      " #   Column                    Non-Null Count  Dtype  \n",
      "---  ------                    --------------  -----  \n",
      " 0   CLIENTNUM                 10127 non-null  int64  \n",
      " 1   Attrition_Flag            10127 non-null  object \n",
      " 2   Customer_Age              10127 non-null  int64  \n",
      " 3   Gender                    10127 non-null  object \n",
      " 4   Dependent_count           10127 non-null  int64  \n",
      " 5   Education_Level           10127 non-null  object \n",
      " 6   Marital_Status            10127 non-null  object \n",
      " 7   Income_Category           10127 non-null  object \n",
      " 8   Card_Category             10127 non-null  object \n",
      " 9   Months_on_book            10127 non-null  int64  \n",
      " 10  Total_Relationship_Count  10127 non-null  int64  \n",
      " 11  Months_Inactive_12_mon    10127 non-null  int64  \n",
      " 12  Contacts_Count_12_mon     10127 non-null  int64  \n",
      " 13  Credit_Limit              10127 non-null  float64\n",
      " 14  Total_Revolving_Bal       10127 non-null  int64  \n",
      " 15  Avg_Open_To_Buy           10127 non-null  float64\n",
      " 16  Total_Amt_Chng_Q4_Q1      10127 non-null  float64\n",
      " 17  Total_Trans_Amt           10127 non-null  int64  \n",
      " 18  Total_Trans_Ct            10127 non-null  int64  \n",
      " 19  Total_Ct_Chng_Q4_Q1       10127 non-null  float64\n",
      " 20  Avg_Utilization_Ratio     10127 non-null  float64\n",
      "dtypes: float64(5), int64(10), object(6)\n",
      "memory usage: 1.6+ MB\n"
     ]
    }
   ],
   "source": [
    "df.info()"
   ]
  },
  {
   "cell_type": "code",
   "execution_count": 14,
   "metadata": {},
   "outputs": [
    {
     "data": {
      "text/html": [
       "<div>\n",
       "<style scoped>\n",
       "    .dataframe tbody tr th:only-of-type {\n",
       "        vertical-align: middle;\n",
       "    }\n",
       "\n",
       "    .dataframe tbody tr th {\n",
       "        vertical-align: top;\n",
       "    }\n",
       "\n",
       "    .dataframe thead th {\n",
       "        text-align: right;\n",
       "    }\n",
       "</style>\n",
       "<table border=\"1\" class=\"dataframe\">\n",
       "  <thead>\n",
       "    <tr style=\"text-align: right;\">\n",
       "      <th></th>\n",
       "      <th>CLIENTNUM</th>\n",
       "      <th>Customer_Age</th>\n",
       "      <th>Dependent_count</th>\n",
       "      <th>Months_on_book</th>\n",
       "      <th>Total_Relationship_Count</th>\n",
       "      <th>Months_Inactive_12_mon</th>\n",
       "      <th>Contacts_Count_12_mon</th>\n",
       "      <th>Credit_Limit</th>\n",
       "      <th>Total_Revolving_Bal</th>\n",
       "      <th>Avg_Open_To_Buy</th>\n",
       "      <th>Total_Amt_Chng_Q4_Q1</th>\n",
       "      <th>Total_Trans_Amt</th>\n",
       "      <th>Total_Trans_Ct</th>\n",
       "      <th>Total_Ct_Chng_Q4_Q1</th>\n",
       "      <th>Avg_Utilization_Ratio</th>\n",
       "    </tr>\n",
       "  </thead>\n",
       "  <tbody>\n",
       "    <tr>\n",
       "      <th>count</th>\n",
       "      <td>1.012700e+04</td>\n",
       "      <td>10127.000000</td>\n",
       "      <td>10127.000000</td>\n",
       "      <td>10127.000000</td>\n",
       "      <td>10127.000000</td>\n",
       "      <td>10127.000000</td>\n",
       "      <td>10127.000000</td>\n",
       "      <td>10127.000000</td>\n",
       "      <td>10127.000000</td>\n",
       "      <td>10127.000000</td>\n",
       "      <td>10127.000000</td>\n",
       "      <td>10127.000000</td>\n",
       "      <td>10127.000000</td>\n",
       "      <td>10127.000000</td>\n",
       "      <td>10127.000000</td>\n",
       "    </tr>\n",
       "    <tr>\n",
       "      <th>mean</th>\n",
       "      <td>7.391776e+08</td>\n",
       "      <td>46.325960</td>\n",
       "      <td>2.346203</td>\n",
       "      <td>35.928409</td>\n",
       "      <td>3.812580</td>\n",
       "      <td>2.341167</td>\n",
       "      <td>2.455317</td>\n",
       "      <td>8631.953698</td>\n",
       "      <td>1162.814061</td>\n",
       "      <td>7469.139637</td>\n",
       "      <td>0.759941</td>\n",
       "      <td>4404.086304</td>\n",
       "      <td>64.858695</td>\n",
       "      <td>0.712222</td>\n",
       "      <td>0.274894</td>\n",
       "    </tr>\n",
       "    <tr>\n",
       "      <th>std</th>\n",
       "      <td>3.690378e+07</td>\n",
       "      <td>8.016814</td>\n",
       "      <td>1.298908</td>\n",
       "      <td>7.986416</td>\n",
       "      <td>1.554408</td>\n",
       "      <td>1.010622</td>\n",
       "      <td>1.106225</td>\n",
       "      <td>9088.776650</td>\n",
       "      <td>814.987335</td>\n",
       "      <td>9090.685324</td>\n",
       "      <td>0.219207</td>\n",
       "      <td>3397.129254</td>\n",
       "      <td>23.472570</td>\n",
       "      <td>0.238086</td>\n",
       "      <td>0.275691</td>\n",
       "    </tr>\n",
       "    <tr>\n",
       "      <th>min</th>\n",
       "      <td>7.080821e+08</td>\n",
       "      <td>26.000000</td>\n",
       "      <td>0.000000</td>\n",
       "      <td>13.000000</td>\n",
       "      <td>1.000000</td>\n",
       "      <td>0.000000</td>\n",
       "      <td>0.000000</td>\n",
       "      <td>1438.300000</td>\n",
       "      <td>0.000000</td>\n",
       "      <td>3.000000</td>\n",
       "      <td>0.000000</td>\n",
       "      <td>510.000000</td>\n",
       "      <td>10.000000</td>\n",
       "      <td>0.000000</td>\n",
       "      <td>0.000000</td>\n",
       "    </tr>\n",
       "    <tr>\n",
       "      <th>25%</th>\n",
       "      <td>7.130368e+08</td>\n",
       "      <td>41.000000</td>\n",
       "      <td>1.000000</td>\n",
       "      <td>31.000000</td>\n",
       "      <td>3.000000</td>\n",
       "      <td>2.000000</td>\n",
       "      <td>2.000000</td>\n",
       "      <td>2555.000000</td>\n",
       "      <td>359.000000</td>\n",
       "      <td>1324.500000</td>\n",
       "      <td>0.631000</td>\n",
       "      <td>2155.500000</td>\n",
       "      <td>45.000000</td>\n",
       "      <td>0.582000</td>\n",
       "      <td>0.023000</td>\n",
       "    </tr>\n",
       "    <tr>\n",
       "      <th>50%</th>\n",
       "      <td>7.179264e+08</td>\n",
       "      <td>46.000000</td>\n",
       "      <td>2.000000</td>\n",
       "      <td>36.000000</td>\n",
       "      <td>4.000000</td>\n",
       "      <td>2.000000</td>\n",
       "      <td>2.000000</td>\n",
       "      <td>4549.000000</td>\n",
       "      <td>1276.000000</td>\n",
       "      <td>3474.000000</td>\n",
       "      <td>0.736000</td>\n",
       "      <td>3899.000000</td>\n",
       "      <td>67.000000</td>\n",
       "      <td>0.702000</td>\n",
       "      <td>0.176000</td>\n",
       "    </tr>\n",
       "    <tr>\n",
       "      <th>75%</th>\n",
       "      <td>7.731435e+08</td>\n",
       "      <td>52.000000</td>\n",
       "      <td>3.000000</td>\n",
       "      <td>40.000000</td>\n",
       "      <td>5.000000</td>\n",
       "      <td>3.000000</td>\n",
       "      <td>3.000000</td>\n",
       "      <td>11067.500000</td>\n",
       "      <td>1784.000000</td>\n",
       "      <td>9859.000000</td>\n",
       "      <td>0.859000</td>\n",
       "      <td>4741.000000</td>\n",
       "      <td>81.000000</td>\n",
       "      <td>0.818000</td>\n",
       "      <td>0.503000</td>\n",
       "    </tr>\n",
       "    <tr>\n",
       "      <th>max</th>\n",
       "      <td>8.283431e+08</td>\n",
       "      <td>73.000000</td>\n",
       "      <td>5.000000</td>\n",
       "      <td>56.000000</td>\n",
       "      <td>6.000000</td>\n",
       "      <td>6.000000</td>\n",
       "      <td>6.000000</td>\n",
       "      <td>34516.000000</td>\n",
       "      <td>2517.000000</td>\n",
       "      <td>34516.000000</td>\n",
       "      <td>3.397000</td>\n",
       "      <td>18484.000000</td>\n",
       "      <td>139.000000</td>\n",
       "      <td>3.714000</td>\n",
       "      <td>0.999000</td>\n",
       "    </tr>\n",
       "  </tbody>\n",
       "</table>\n",
       "</div>"
      ],
      "text/plain": [
       "          CLIENTNUM  Customer_Age  Dependent_count  Months_on_book  \\\n",
       "count  1.012700e+04  10127.000000     10127.000000    10127.000000   \n",
       "mean   7.391776e+08     46.325960         2.346203       35.928409   \n",
       "std    3.690378e+07      8.016814         1.298908        7.986416   \n",
       "min    7.080821e+08     26.000000         0.000000       13.000000   \n",
       "25%    7.130368e+08     41.000000         1.000000       31.000000   \n",
       "50%    7.179264e+08     46.000000         2.000000       36.000000   \n",
       "75%    7.731435e+08     52.000000         3.000000       40.000000   \n",
       "max    8.283431e+08     73.000000         5.000000       56.000000   \n",
       "\n",
       "       Total_Relationship_Count  Months_Inactive_12_mon  \\\n",
       "count              10127.000000            10127.000000   \n",
       "mean                   3.812580                2.341167   \n",
       "std                    1.554408                1.010622   \n",
       "min                    1.000000                0.000000   \n",
       "25%                    3.000000                2.000000   \n",
       "50%                    4.000000                2.000000   \n",
       "75%                    5.000000                3.000000   \n",
       "max                    6.000000                6.000000   \n",
       "\n",
       "       Contacts_Count_12_mon  Credit_Limit  Total_Revolving_Bal  \\\n",
       "count           10127.000000  10127.000000         10127.000000   \n",
       "mean                2.455317   8631.953698          1162.814061   \n",
       "std                 1.106225   9088.776650           814.987335   \n",
       "min                 0.000000   1438.300000             0.000000   \n",
       "25%                 2.000000   2555.000000           359.000000   \n",
       "50%                 2.000000   4549.000000          1276.000000   \n",
       "75%                 3.000000  11067.500000          1784.000000   \n",
       "max                 6.000000  34516.000000          2517.000000   \n",
       "\n",
       "       Avg_Open_To_Buy  Total_Amt_Chng_Q4_Q1  Total_Trans_Amt  Total_Trans_Ct  \\\n",
       "count     10127.000000          10127.000000     10127.000000    10127.000000   \n",
       "mean       7469.139637              0.759941      4404.086304       64.858695   \n",
       "std        9090.685324              0.219207      3397.129254       23.472570   \n",
       "min           3.000000              0.000000       510.000000       10.000000   \n",
       "25%        1324.500000              0.631000      2155.500000       45.000000   \n",
       "50%        3474.000000              0.736000      3899.000000       67.000000   \n",
       "75%        9859.000000              0.859000      4741.000000       81.000000   \n",
       "max       34516.000000              3.397000     18484.000000      139.000000   \n",
       "\n",
       "       Total_Ct_Chng_Q4_Q1  Avg_Utilization_Ratio  \n",
       "count         10127.000000           10127.000000  \n",
       "mean              0.712222               0.274894  \n",
       "std               0.238086               0.275691  \n",
       "min               0.000000               0.000000  \n",
       "25%               0.582000               0.023000  \n",
       "50%               0.702000               0.176000  \n",
       "75%               0.818000               0.503000  \n",
       "max               3.714000               0.999000  "
      ]
     },
     "execution_count": 14,
     "metadata": {},
     "output_type": "execute_result"
    }
   ],
   "source": [
    "df.describe()"
   ]
  },
  {
   "cell_type": "code",
   "execution_count": 15,
   "metadata": {},
   "outputs": [
    {
     "data": {
      "text/plain": [
       "CLIENTNUM                   0\n",
       "Attrition_Flag              0\n",
       "Customer_Age                0\n",
       "Gender                      0\n",
       "Dependent_count             0\n",
       "Education_Level             0\n",
       "Marital_Status              0\n",
       "Income_Category             0\n",
       "Card_Category               0\n",
       "Months_on_book              0\n",
       "Total_Relationship_Count    0\n",
       "Months_Inactive_12_mon      0\n",
       "Contacts_Count_12_mon       0\n",
       "Credit_Limit                0\n",
       "Total_Revolving_Bal         0\n",
       "Avg_Open_To_Buy             0\n",
       "Total_Amt_Chng_Q4_Q1        0\n",
       "Total_Trans_Amt             0\n",
       "Total_Trans_Ct              0\n",
       "Total_Ct_Chng_Q4_Q1         0\n",
       "Avg_Utilization_Ratio       0\n",
       "dtype: int64"
      ]
     },
     "execution_count": 15,
     "metadata": {},
     "output_type": "execute_result"
    }
   ],
   "source": [
    "df.isnull().sum()"
   ]
  },
  {
   "cell_type": "markdown",
   "metadata": {},
   "source": [
    "# Exploratory Data Anaylsis"
   ]
  },
  {
   "cell_type": "code",
   "execution_count": 16,
   "metadata": {},
   "outputs": [
    {
     "data": {
      "text/plain": [
       "<AxesSubplot:>"
      ]
     },
     "execution_count": 16,
     "metadata": {},
     "output_type": "execute_result"
    },
    {
     "data": {
      "image/png": "[encoded data removed]",
      "text/plain": [
       "<Figure size 1440x432 with 2 Axes>"
      ]
     },
     "metadata": {
      "needs_background": "light"
     },
     "output_type": "display_data"
    }
   ],
   "source": [
    "plt.figure(figsize=(20,6))\n",
    "sns.heatmap(df.corr(), annot=True)"
   ]
  },
  {
   "cell_type": "markdown",
   "metadata": {},
   "source": [
    "- Credit_limit correlates with Avg_open_to_buy (high correlated = 1)\n",
    "- Multicoliniarity - where your X's are highly correlated with each other, we want it to the Y's and X's to correlated\n",
    "- Toal_revolving_balance correlates with Avg_utilization_ratio (highly correlated = 0.62)\n",
    "- Custormers_age correlates with Month's_on_book (highly correlated = 0.72)"
   ]
  },
  {
   "cell_type": "markdown",
   "metadata": {},
   "source": [
    "#### <b>Hypothesis</b>\n",
    "<b>Our Goal here is to find attrition, so we want to find the best model to predict the attrition.</b>\n",
    "<b>Is the customer more likely to leave the bank? Or are they more likely to stay?</b>"
   ]
  },
  {
   "cell_type": "code",
   "execution_count": 17,
   "metadata": {},
   "outputs": [
    {
     "data": {
      "text/plain": [
       "<seaborn.axisgrid.JointGrid at 0x7ff310e11ed0>"
      ]
     },
     "execution_count": 17,
     "metadata": {},
     "output_type": "execute_result"
    },
    {
     "data": {
      "image/png": "[encoded data removed]",
      "text/plain": [
       "<Figure size 432x432 with 3 Axes>"
      ]
     },
     "metadata": {
      "needs_background": "light"
     },
     "output_type": "display_data"
    }
   ],
   "source": [
    "sns.jointplot(x='Customer_Age', y='Months_on_book', data=df, color='purple')"
   ]
  },
  {
   "cell_type": "code",
   "execution_count": 18,
   "metadata": {},
   "outputs": [
    {
     "data": {
      "text/plain": [
       "<AxesSubplot:xlabel='Customer_Age', ylabel='Months_on_book'>"
      ]
     },
     "execution_count": 18,
     "metadata": {},
     "output_type": "execute_result"
    },
    {
     "data": {
      "image/png": "[encoded data removed]",
      "text/plain": [
       "<Figure size 1440x432 with 1 Axes>"
      ]
     },
     "metadata": {
      "needs_background": "light"
     },
     "output_type": "display_data"
    }
   ],
   "source": [
    "plt.figure(figsize=(20,6))\n",
    "sns.boxplot(data=df, x='Customer_Age', y='Months_on_book')"
   ]
  },
  {
   "cell_type": "markdown",
   "metadata": {},
   "source": [
    "As we can see from this boxplot, we can see that a customer's age affects the longevity of their account.\n",
    "- The older a customer the older the account they have.\n",
    "- The younger a customer the younger their account.\n",
    "\n",
    "We can't assume that a customer is more likely to leave the bank if they are younger."
   ]
  },
  {
   "cell_type": "code",
   "execution_count": 19,
   "metadata": {},
   "outputs": [
    {
     "data": {
      "text/plain": [
       "<AxesSubplot:xlabel='Customer_Age', ylabel='Count'>"
      ]
     },
     "execution_count": 19,
     "metadata": {},
     "output_type": "execute_result"
    },
    {
     "data": {
      "image/png": "[encoded data removed]",
      "text/plain": [
       "<Figure size 1440x432 with 1 Axes>"
      ]
     },
     "metadata": {
      "needs_background": "light"
     },
     "output_type": "display_data"
    }
   ],
   "source": [
    "plt.figure(figsize=(20,6))\n",
    "sns.histplot(df['Customer_Age'], kde=False, bins=100)"
   ]
  },
  {
   "cell_type": "markdown",
   "metadata": {},
   "source": [
    "We can see that the customer's age is a normal distribution.\n",
    "There is a larger density of middle aged customers."
   ]
  },
  {
   "cell_type": "markdown",
   "metadata": {},
   "source": [
    "Due to the fact that the customer's age is a normal distribution, we can assume that the customer is more likely to leave the bank if they are younger."
   ]
  },
  {
   "cell_type": "markdown",
   "metadata": {},
   "source": [
    "### Now we want to drop our uneccesary columns and create our X and Y.\n",
    "\n",
    "- We want to drop Clientnum, since it is not a predictive variable.\n",
    "- We want to drop attrition_flag, since we are trying to predict it."
   ]
  },
  {
   "cell_type": "code",
   "execution_count": 20,
   "metadata": {},
   "outputs": [],
   "source": [
    "df.drop(['CLIENTNUM'], axis=1, inplace=True)"
   ]
  },
  {
   "cell_type": "markdown",
   "metadata": {},
   "source": [
    "### We want to One-Hot-Encode the column: Attrition_Flag"
   ]
  },
  {
   "cell_type": "code",
   "execution_count": 21,
   "metadata": {},
   "outputs": [],
   "source": [
    "df['Attrition_Flag'] = pd.get_dummies(data= df['Attrition_Flag'], drop_first=True)"
   ]
  },
  {
   "cell_type": "code",
   "execution_count": 22,
   "metadata": {},
   "outputs": [
    {
     "data": {
      "text/plain": [
       "1    8500\n",
       "0    1627\n",
       "Name: Attrition_Flag, dtype: int64"
      ]
     },
     "execution_count": 22,
     "metadata": {},
     "output_type": "execute_result"
    }
   ],
   "source": [
    "df['Attrition_Flag'].value_counts()"
   ]
  },
  {
   "cell_type": "code",
   "execution_count": 23,
   "metadata": {},
   "outputs": [],
   "source": [
    "df['Gender'] = pd.get_dummies(data= df['Gender'], drop_first=True)"
   ]
  },
  {
   "cell_type": "code",
   "execution_count": 24,
   "metadata": {},
   "outputs": [
    {
     "data": {
      "text/plain": [
       "0    5358\n",
       "1    4769\n",
       "Name: Gender, dtype: int64"
      ]
     },
     "execution_count": 24,
     "metadata": {},
     "output_type": "execute_result"
    }
   ],
   "source": [
    "df['Gender'].value_counts()"
   ]
  },
  {
   "cell_type": "code",
   "execution_count": 25,
   "metadata": {},
   "outputs": [],
   "source": [
    "df.drop(['Marital_Status', 'Education_Level', 'Income_Category', 'Card_Category'], axis=1, inplace=True)"
   ]
  },
  {
   "cell_type": "code",
   "execution_count": 26,
   "metadata": {},
   "outputs": [
    {
     "data": {
      "text/html": [
       "<div>\n",
       "<style scoped>\n",
       "    .dataframe tbody tr th:only-of-type {\n",
       "        vertical-align: middle;\n",
       "    }\n",
       "\n",
       "    .dataframe tbody tr th {\n",
       "        vertical-align: top;\n",
       "    }\n",
       "\n",
       "    .dataframe thead th {\n",
       "        text-align: right;\n",
       "    }\n",
       "</style>\n",
       "<table border=\"1\" class=\"dataframe\">\n",
       "  <thead>\n",
       "    <tr style=\"text-align: right;\">\n",
       "      <th></th>\n",
       "      <th>Attrition_Flag</th>\n",
       "      <th>Customer_Age</th>\n",
       "      <th>Gender</th>\n",
       "      <th>Dependent_count</th>\n",
       "      <th>Months_on_book</th>\n",
       "      <th>Total_Relationship_Count</th>\n",
       "      <th>Months_Inactive_12_mon</th>\n",
       "      <th>Contacts_Count_12_mon</th>\n",
       "      <th>Credit_Limit</th>\n",
       "      <th>Total_Revolving_Bal</th>\n",
       "      <th>Avg_Open_To_Buy</th>\n",
       "      <th>Total_Amt_Chng_Q4_Q1</th>\n",
       "      <th>Total_Trans_Amt</th>\n",
       "      <th>Total_Trans_Ct</th>\n",
       "      <th>Total_Ct_Chng_Q4_Q1</th>\n",
       "      <th>Avg_Utilization_Ratio</th>\n",
       "    </tr>\n",
       "  </thead>\n",
       "  <tbody>\n",
       "    <tr>\n",
       "      <th>0</th>\n",
       "      <td>1</td>\n",
       "      <td>45</td>\n",
       "      <td>1</td>\n",
       "      <td>3</td>\n",
       "      <td>39</td>\n",
       "      <td>5</td>\n",
       "      <td>1</td>\n",
       "      <td>3</td>\n",
       "      <td>12691.0</td>\n",
       "      <td>777</td>\n",
       "      <td>11914.0</td>\n",
       "      <td>1.335</td>\n",
       "      <td>1144</td>\n",
       "      <td>42</td>\n",
       "      <td>1.625</td>\n",
       "      <td>0.061</td>\n",
       "    </tr>\n",
       "    <tr>\n",
       "      <th>1</th>\n",
       "      <td>1</td>\n",
       "      <td>49</td>\n",
       "      <td>0</td>\n",
       "      <td>5</td>\n",
       "      <td>44</td>\n",
       "      <td>6</td>\n",
       "      <td>1</td>\n",
       "      <td>2</td>\n",
       "      <td>8256.0</td>\n",
       "      <td>864</td>\n",
       "      <td>7392.0</td>\n",
       "      <td>1.541</td>\n",
       "      <td>1291</td>\n",
       "      <td>33</td>\n",
       "      <td>3.714</td>\n",
       "      <td>0.105</td>\n",
       "    </tr>\n",
       "    <tr>\n",
       "      <th>2</th>\n",
       "      <td>1</td>\n",
       "      <td>51</td>\n",
       "      <td>1</td>\n",
       "      <td>3</td>\n",
       "      <td>36</td>\n",
       "      <td>4</td>\n",
       "      <td>1</td>\n",
       "      <td>0</td>\n",
       "      <td>3418.0</td>\n",
       "      <td>0</td>\n",
       "      <td>3418.0</td>\n",
       "      <td>2.594</td>\n",
       "      <td>1887</td>\n",
       "      <td>20</td>\n",
       "      <td>2.333</td>\n",
       "      <td>0.000</td>\n",
       "    </tr>\n",
       "    <tr>\n",
       "      <th>3</th>\n",
       "      <td>1</td>\n",
       "      <td>40</td>\n",
       "      <td>0</td>\n",
       "      <td>4</td>\n",
       "      <td>34</td>\n",
       "      <td>3</td>\n",
       "      <td>4</td>\n",
       "      <td>1</td>\n",
       "      <td>3313.0</td>\n",
       "      <td>2517</td>\n",
       "      <td>796.0</td>\n",
       "      <td>1.405</td>\n",
       "      <td>1171</td>\n",
       "      <td>20</td>\n",
       "      <td>2.333</td>\n",
       "      <td>0.760</td>\n",
       "    </tr>\n",
       "    <tr>\n",
       "      <th>4</th>\n",
       "      <td>1</td>\n",
       "      <td>40</td>\n",
       "      <td>1</td>\n",
       "      <td>3</td>\n",
       "      <td>21</td>\n",
       "      <td>5</td>\n",
       "      <td>1</td>\n",
       "      <td>0</td>\n",
       "      <td>4716.0</td>\n",
       "      <td>0</td>\n",
       "      <td>4716.0</td>\n",
       "      <td>2.175</td>\n",
       "      <td>816</td>\n",
       "      <td>28</td>\n",
       "      <td>2.500</td>\n",
       "      <td>0.000</td>\n",
       "    </tr>\n",
       "  </tbody>\n",
       "</table>\n",
       "</div>"
      ],
      "text/plain": [
       "   Attrition_Flag  Customer_Age  Gender  Dependent_count  Months_on_book  \\\n",
       "0               1            45       1                3              39   \n",
       "1               1            49       0                5              44   \n",
       "2               1            51       1                3              36   \n",
       "3               1            40       0                4              34   \n",
       "4               1            40       1                3              21   \n",
       "\n",
       "   Total_Relationship_Count  Months_Inactive_12_mon  Contacts_Count_12_mon  \\\n",
       "0                         5                       1                      3   \n",
       "1                         6                       1                      2   \n",
       "2                         4                       1                      0   \n",
       "3                         3                       4                      1   \n",
       "4                         5                       1                      0   \n",
       "\n",
       "   Credit_Limit  Total_Revolving_Bal  Avg_Open_To_Buy  Total_Amt_Chng_Q4_Q1  \\\n",
       "0       12691.0                  777          11914.0                 1.335   \n",
       "1        8256.0                  864           7392.0                 1.541   \n",
       "2        3418.0                    0           3418.0                 2.594   \n",
       "3        3313.0                 2517            796.0                 1.405   \n",
       "4        4716.0                    0           4716.0                 2.175   \n",
       "\n",
       "   Total_Trans_Amt  Total_Trans_Ct  Total_Ct_Chng_Q4_Q1  Avg_Utilization_Ratio  \n",
       "0             1144              42                1.625                  0.061  \n",
       "1             1291              33                3.714                  0.105  \n",
       "2             1887              20                2.333                  0.000  \n",
       "3             1171              20                2.333                  0.760  \n",
       "4              816              28                2.500                  0.000  "
      ]
     },
     "execution_count": 26,
     "metadata": {},
     "output_type": "execute_result"
    }
   ],
   "source": [
    "df.head()"
   ]
  },
  {
   "cell_type": "markdown",
   "metadata": {},
   "source": [
    "# Train Test Split"
   ]
  },
  {
   "cell_type": "code",
   "execution_count": 27,
   "metadata": {},
   "outputs": [],
   "source": [
    "X = df.drop(['Attrition_Flag'], axis=1)\n",
    "y = df['Attrition_Flag'].values"
   ]
  },
  {
   "cell_type": "code",
   "execution_count": 28,
   "metadata": {},
   "outputs": [
    {
     "data": {
      "text/plain": [
       "array([1, 1, 1, ..., 0, 0, 0], dtype=uint8)"
      ]
     },
     "execution_count": 28,
     "metadata": {},
     "output_type": "execute_result"
    }
   ],
   "source": [
    "y"
   ]
  },
  {
   "cell_type": "code",
   "execution_count": 29,
   "metadata": {},
   "outputs": [],
   "source": [
    "X_train, X_test, y_train, y_test = train_test_split(X, y, test_size=0.4, random_state=101)"
   ]
  },
  {
   "cell_type": "code",
   "execution_count": 30,
   "metadata": {},
   "outputs": [
    {
     "data": {
      "text/html": [
       "<div>\n",
       "<style scoped>\n",
       "    .dataframe tbody tr th:only-of-type {\n",
       "        vertical-align: middle;\n",
       "    }\n",
       "\n",
       "    .dataframe tbody tr th {\n",
       "        vertical-align: top;\n",
       "    }\n",
       "\n",
       "    .dataframe thead th {\n",
       "        text-align: right;\n",
       "    }\n",
       "</style>\n",
       "<table border=\"1\" class=\"dataframe\">\n",
       "  <thead>\n",
       "    <tr style=\"text-align: right;\">\n",
       "      <th></th>\n",
       "      <th>Customer_Age</th>\n",
       "      <th>Gender</th>\n",
       "      <th>Dependent_count</th>\n",
       "      <th>Months_on_book</th>\n",
       "      <th>Total_Relationship_Count</th>\n",
       "      <th>Months_Inactive_12_mon</th>\n",
       "      <th>Contacts_Count_12_mon</th>\n",
       "      <th>Credit_Limit</th>\n",
       "      <th>Total_Revolving_Bal</th>\n",
       "      <th>Avg_Open_To_Buy</th>\n",
       "      <th>Total_Amt_Chng_Q4_Q1</th>\n",
       "      <th>Total_Trans_Amt</th>\n",
       "      <th>Total_Trans_Ct</th>\n",
       "      <th>Total_Ct_Chng_Q4_Q1</th>\n",
       "      <th>Avg_Utilization_Ratio</th>\n",
       "    </tr>\n",
       "  </thead>\n",
       "  <tbody>\n",
       "    <tr>\n",
       "      <th>5500</th>\n",
       "      <td>45</td>\n",
       "      <td>0</td>\n",
       "      <td>4</td>\n",
       "      <td>37</td>\n",
       "      <td>4</td>\n",
       "      <td>2</td>\n",
       "      <td>1</td>\n",
       "      <td>3241.0</td>\n",
       "      <td>0</td>\n",
       "      <td>3241.0</td>\n",
       "      <td>0.629</td>\n",
       "      <td>4992</td>\n",
       "      <td>80</td>\n",
       "      <td>0.739</td>\n",
       "      <td>0.000</td>\n",
       "    </tr>\n",
       "    <tr>\n",
       "      <th>5957</th>\n",
       "      <td>38</td>\n",
       "      <td>1</td>\n",
       "      <td>1</td>\n",
       "      <td>28</td>\n",
       "      <td>4</td>\n",
       "      <td>5</td>\n",
       "      <td>2</td>\n",
       "      <td>1690.0</td>\n",
       "      <td>1459</td>\n",
       "      <td>231.0</td>\n",
       "      <td>0.667</td>\n",
       "      <td>3928</td>\n",
       "      <td>69</td>\n",
       "      <td>0.643</td>\n",
       "      <td>0.863</td>\n",
       "    </tr>\n",
       "    <tr>\n",
       "      <th>6475</th>\n",
       "      <td>55</td>\n",
       "      <td>0</td>\n",
       "      <td>2</td>\n",
       "      <td>36</td>\n",
       "      <td>3</td>\n",
       "      <td>3</td>\n",
       "      <td>2</td>\n",
       "      <td>1886.0</td>\n",
       "      <td>1023</td>\n",
       "      <td>863.0</td>\n",
       "      <td>0.708</td>\n",
       "      <td>4233</td>\n",
       "      <td>81</td>\n",
       "      <td>0.884</td>\n",
       "      <td>0.542</td>\n",
       "    </tr>\n",
       "    <tr>\n",
       "      <th>1520</th>\n",
       "      <td>32</td>\n",
       "      <td>1</td>\n",
       "      <td>1</td>\n",
       "      <td>27</td>\n",
       "      <td>5</td>\n",
       "      <td>3</td>\n",
       "      <td>3</td>\n",
       "      <td>10029.0</td>\n",
       "      <td>606</td>\n",
       "      <td>9423.0</td>\n",
       "      <td>0.727</td>\n",
       "      <td>2192</td>\n",
       "      <td>58</td>\n",
       "      <td>0.657</td>\n",
       "      <td>0.060</td>\n",
       "    </tr>\n",
       "    <tr>\n",
       "      <th>9960</th>\n",
       "      <td>40</td>\n",
       "      <td>0</td>\n",
       "      <td>1</td>\n",
       "      <td>34</td>\n",
       "      <td>5</td>\n",
       "      <td>2</td>\n",
       "      <td>2</td>\n",
       "      <td>13669.0</td>\n",
       "      <td>1774</td>\n",
       "      <td>11895.0</td>\n",
       "      <td>0.653</td>\n",
       "      <td>15772</td>\n",
       "      <td>130</td>\n",
       "      <td>0.625</td>\n",
       "      <td>0.130</td>\n",
       "    </tr>\n",
       "    <tr>\n",
       "      <th>...</th>\n",
       "      <td>...</td>\n",
       "      <td>...</td>\n",
       "      <td>...</td>\n",
       "      <td>...</td>\n",
       "      <td>...</td>\n",
       "      <td>...</td>\n",
       "      <td>...</td>\n",
       "      <td>...</td>\n",
       "      <td>...</td>\n",
       "      <td>...</td>\n",
       "      <td>...</td>\n",
       "      <td>...</td>\n",
       "      <td>...</td>\n",
       "      <td>...</td>\n",
       "      <td>...</td>\n",
       "    </tr>\n",
       "    <tr>\n",
       "      <th>599</th>\n",
       "      <td>57</td>\n",
       "      <td>1</td>\n",
       "      <td>2</td>\n",
       "      <td>36</td>\n",
       "      <td>3</td>\n",
       "      <td>2</td>\n",
       "      <td>2</td>\n",
       "      <td>23700.0</td>\n",
       "      <td>1314</td>\n",
       "      <td>22386.0</td>\n",
       "      <td>1.487</td>\n",
       "      <td>1644</td>\n",
       "      <td>28</td>\n",
       "      <td>0.647</td>\n",
       "      <td>0.055</td>\n",
       "    </tr>\n",
       "    <tr>\n",
       "      <th>5695</th>\n",
       "      <td>49</td>\n",
       "      <td>0</td>\n",
       "      <td>2</td>\n",
       "      <td>38</td>\n",
       "      <td>6</td>\n",
       "      <td>3</td>\n",
       "      <td>3</td>\n",
       "      <td>5076.0</td>\n",
       "      <td>871</td>\n",
       "      <td>4205.0</td>\n",
       "      <td>0.693</td>\n",
       "      <td>4115</td>\n",
       "      <td>72</td>\n",
       "      <td>0.600</td>\n",
       "      <td>0.172</td>\n",
       "    </tr>\n",
       "    <tr>\n",
       "      <th>8006</th>\n",
       "      <td>58</td>\n",
       "      <td>0</td>\n",
       "      <td>5</td>\n",
       "      <td>47</td>\n",
       "      <td>1</td>\n",
       "      <td>3</td>\n",
       "      <td>3</td>\n",
       "      <td>2038.0</td>\n",
       "      <td>1099</td>\n",
       "      <td>939.0</td>\n",
       "      <td>0.809</td>\n",
       "      <td>4784</td>\n",
       "      <td>70</td>\n",
       "      <td>0.750</td>\n",
       "      <td>0.539</td>\n",
       "    </tr>\n",
       "    <tr>\n",
       "      <th>1361</th>\n",
       "      <td>59</td>\n",
       "      <td>1</td>\n",
       "      <td>0</td>\n",
       "      <td>53</td>\n",
       "      <td>3</td>\n",
       "      <td>2</td>\n",
       "      <td>3</td>\n",
       "      <td>4241.0</td>\n",
       "      <td>0</td>\n",
       "      <td>4241.0</td>\n",
       "      <td>0.607</td>\n",
       "      <td>1798</td>\n",
       "      <td>45</td>\n",
       "      <td>0.731</td>\n",
       "      <td>0.000</td>\n",
       "    </tr>\n",
       "    <tr>\n",
       "      <th>1547</th>\n",
       "      <td>54</td>\n",
       "      <td>0</td>\n",
       "      <td>3</td>\n",
       "      <td>50</td>\n",
       "      <td>6</td>\n",
       "      <td>2</td>\n",
       "      <td>2</td>\n",
       "      <td>3796.0</td>\n",
       "      <td>2396</td>\n",
       "      <td>1400.0</td>\n",
       "      <td>0.569</td>\n",
       "      <td>2069</td>\n",
       "      <td>54</td>\n",
       "      <td>0.742</td>\n",
       "      <td>0.631</td>\n",
       "    </tr>\n",
       "  </tbody>\n",
       "</table>\n",
       "<p>6076 rows × 15 columns</p>\n",
       "</div>"
      ],
      "text/plain": [
       "      Customer_Age  Gender  Dependent_count  Months_on_book  \\\n",
       "5500            45       0                4              37   \n",
       "5957            38       1                1              28   \n",
       "6475            55       0                2              36   \n",
       "1520            32       1                1              27   \n",
       "9960            40       0                1              34   \n",
       "...            ...     ...              ...             ...   \n",
       "599             57       1                2              36   \n",
       "5695            49       0                2              38   \n",
       "8006            58       0                5              47   \n",
       "1361            59       1                0              53   \n",
       "1547            54       0                3              50   \n",
       "\n",
       "      Total_Relationship_Count  Months_Inactive_12_mon  Contacts_Count_12_mon  \\\n",
       "5500                         4                       2                      1   \n",
       "5957                         4                       5                      2   \n",
       "6475                         3                       3                      2   \n",
       "1520                         5                       3                      3   \n",
       "9960                         5                       2                      2   \n",
       "...                        ...                     ...                    ...   \n",
       "599                          3                       2                      2   \n",
       "5695                         6                       3                      3   \n",
       "8006                         1                       3                      3   \n",
       "1361                         3                       2                      3   \n",
       "1547                         6                       2                      2   \n",
       "\n",
       "      Credit_Limit  Total_Revolving_Bal  Avg_Open_To_Buy  \\\n",
       "5500        3241.0                    0           3241.0   \n",
       "5957        1690.0                 1459            231.0   \n",
       "6475        1886.0                 1023            863.0   \n",
       "1520       10029.0                  606           9423.0   \n",
       "9960       13669.0                 1774          11895.0   \n",
       "...            ...                  ...              ...   \n",
       "599        23700.0                 1314          22386.0   \n",
       "5695        5076.0                  871           4205.0   \n",
       "8006        2038.0                 1099            939.0   \n",
       "1361        4241.0                    0           4241.0   \n",
       "1547        3796.0                 2396           1400.0   \n",
       "\n",
       "      Total_Amt_Chng_Q4_Q1  Total_Trans_Amt  Total_Trans_Ct  \\\n",
       "5500                 0.629             4992              80   \n",
       "5957                 0.667             3928              69   \n",
       "6475                 0.708             4233              81   \n",
       "1520                 0.727             2192              58   \n",
       "9960                 0.653            15772             130   \n",
       "...                    ...              ...             ...   \n",
       "599                  1.487             1644              28   \n",
       "5695                 0.693             4115              72   \n",
       "8006                 0.809             4784              70   \n",
       "1361                 0.607             1798              45   \n",
       "1547                 0.569             2069              54   \n",
       "\n",
       "      Total_Ct_Chng_Q4_Q1  Avg_Utilization_Ratio  \n",
       "5500                0.739                  0.000  \n",
       "5957                0.643                  0.863  \n",
       "6475                0.884                  0.542  \n",
       "1520                0.657                  0.060  \n",
       "9960                0.625                  0.130  \n",
       "...                   ...                    ...  \n",
       "599                 0.647                  0.055  \n",
       "5695                0.600                  0.172  \n",
       "8006                0.750                  0.539  \n",
       "1361                0.731                  0.000  \n",
       "1547                0.742                  0.631  \n",
       "\n",
       "[6076 rows x 15 columns]"
      ]
     },
     "execution_count": 30,
     "metadata": {},
     "output_type": "execute_result"
    }
   ],
   "source": [
    "X_train"
   ]
  },
  {
   "cell_type": "markdown",
   "metadata": {},
   "source": [
    "# Scaling our Data"
   ]
  },
  {
   "cell_type": "code",
   "execution_count": 31,
   "metadata": {},
   "outputs": [],
   "source": [
    "from sklearn.preprocessing import MinMaxScaler"
   ]
  },
  {
   "cell_type": "code",
   "execution_count": 32,
   "metadata": {},
   "outputs": [],
   "source": [
    "scaler = MinMaxScaler()"
   ]
  },
  {
   "cell_type": "code",
   "execution_count": 33,
   "metadata": {},
   "outputs": [
    {
     "data": {
      "text/plain": [
       "MinMaxScaler()"
      ]
     },
     "execution_count": 33,
     "metadata": {},
     "output_type": "execute_result"
    }
   ],
   "source": [
    "scaler.fit(X_train)"
   ]
  },
  {
   "cell_type": "code",
   "execution_count": 34,
   "metadata": {},
   "outputs": [],
   "source": [
    "X_train = scaler.transform(X_train)\n",
    "X_test = scaler.transform(X_test)"
   ]
  },
  {
   "cell_type": "code",
   "execution_count": 35,
   "metadata": {},
   "outputs": [
    {
     "data": {
      "text/plain": [
       "array([1, 1, 1, ..., 1, 1, 1], dtype=uint8)"
      ]
     },
     "execution_count": 35,
     "metadata": {},
     "output_type": "execute_result"
    }
   ],
   "source": [
    "y_train"
   ]
  },
  {
   "cell_type": "markdown",
   "metadata": {},
   "source": [
    "### We will try a Decision Tree Classifier"
   ]
  },
  {
   "cell_type": "code",
   "execution_count": 36,
   "metadata": {},
   "outputs": [],
   "source": [
    "from sklearn.tree import DecisionTreeClassifier"
   ]
  },
  {
   "cell_type": "code",
   "execution_count": 37,
   "metadata": {},
   "outputs": [],
   "source": [
    "dtree = DecisionTreeClassifier()"
   ]
  },
  {
   "cell_type": "code",
   "execution_count": 38,
   "metadata": {},
   "outputs": [
    {
     "data": {
      "text/plain": [
       "DecisionTreeClassifier()"
      ]
     },
     "execution_count": 38,
     "metadata": {},
     "output_type": "execute_result"
    }
   ],
   "source": [
    "dtree.fit(X_train,y_train)"
   ]
  },
  {
   "cell_type": "markdown",
   "metadata": {},
   "source": [
    "## Prediction and Evaluation \n",
    "\n",
    "Let's evaluate our decision tree."
   ]
  },
  {
   "cell_type": "code",
   "execution_count": 39,
   "metadata": {},
   "outputs": [],
   "source": [
    "predictions = dtree.predict(X_test)"
   ]
  },
  {
   "cell_type": "code",
   "execution_count": 40,
   "metadata": {},
   "outputs": [
    {
     "data": {
      "text/plain": [
       "array([1, 1, 1, ..., 0, 1, 1], dtype=uint8)"
      ]
     },
     "execution_count": 40,
     "metadata": {},
     "output_type": "execute_result"
    }
   ],
   "source": [
    "predictions"
   ]
  },
  {
   "cell_type": "markdown",
   "metadata": {},
   "source": [
    "## Predictions and Evaluation of Decision Tree"
   ]
  },
  {
   "cell_type": "code",
   "execution_count": 41,
   "metadata": {},
   "outputs": [],
   "source": [
    "from sklearn.metrics import classification_report,confusion_matrix"
   ]
  },
  {
   "cell_type": "code",
   "execution_count": 42,
   "metadata": {},
   "outputs": [
    {
     "name": "stdout",
     "output_type": "stream",
     "text": [
      "              precision    recall  f1-score   support\n",
      "\n",
      "           0       0.80      0.81      0.81       656\n",
      "           1       0.96      0.96      0.96      3395\n",
      "\n",
      "    accuracy                           0.94      4051\n",
      "   macro avg       0.88      0.89      0.88      4051\n",
      "weighted avg       0.94      0.94      0.94      4051\n",
      "\n"
     ]
    }
   ],
   "source": [
    "print(classification_report(y_test,predictions))"
   ]
  },
  {
   "cell_type": "code",
   "execution_count": 43,
   "metadata": {},
   "outputs": [
    {
     "name": "stdout",
     "output_type": "stream",
     "text": [
      "[[ 532  124]\n",
      " [ 131 3264]]\n"
     ]
    }
   ],
   "source": [
    "print(confusion_matrix(y_test,predictions))"
   ]
  },
  {
   "cell_type": "markdown",
   "metadata": {},
   "source": [
    "## Training the Random Forest model"
   ]
  },
  {
   "cell_type": "code",
   "execution_count": 44,
   "metadata": {},
   "outputs": [],
   "source": [
    "from sklearn.ensemble import RandomForestClassifier"
   ]
  },
  {
   "cell_type": "code",
   "execution_count": 45,
   "metadata": {},
   "outputs": [],
   "source": [
    "rfc = RandomForestClassifier(n_estimators=600)"
   ]
  },
  {
   "cell_type": "code",
   "execution_count": 46,
   "metadata": {},
   "outputs": [
    {
     "data": {
      "text/plain": [
       "RandomForestClassifier(n_estimators=600)"
      ]
     },
     "execution_count": 46,
     "metadata": {},
     "output_type": "execute_result"
    }
   ],
   "source": [
    "rfc.fit(X_train, y_train)"
   ]
  },
  {
   "cell_type": "markdown",
   "metadata": {},
   "source": [
    "## Predictions and Evaluation of Random Forest Model"
   ]
  },
  {
   "cell_type": "code",
   "execution_count": 47,
   "metadata": {},
   "outputs": [],
   "source": [
    "pred = rfc.predict(X_test)"
   ]
  },
  {
   "cell_type": "code",
   "execution_count": 48,
   "metadata": {},
   "outputs": [
    {
     "name": "stdout",
     "output_type": "stream",
     "text": [
      "              precision    recall  f1-score   support\n",
      "\n",
      "           0       0.92      0.83      0.87       656\n",
      "           1       0.97      0.99      0.98      3395\n",
      "\n",
      "    accuracy                           0.96      4051\n",
      "   macro avg       0.94      0.91      0.92      4051\n",
      "weighted avg       0.96      0.96      0.96      4051\n",
      "\n"
     ]
    }
   ],
   "source": [
    "print(classification_report(y_test, pred))"
   ]
  },
  {
   "cell_type": "code",
   "execution_count": 49,
   "metadata": {},
   "outputs": [
    {
     "data": {
      "text/plain": [
       "array([1, 1, 1, ..., 1, 1, 1], dtype=uint8)"
      ]
     },
     "execution_count": 49,
     "metadata": {},
     "output_type": "execute_result"
    }
   ],
   "source": [
    "pred"
   ]
  },
  {
   "cell_type": "code",
   "execution_count": 50,
   "metadata": {},
   "outputs": [
    {
     "name": "stdout",
     "output_type": "stream",
     "text": [
      "[[ 542  114]\n",
      " [  47 3348]]\n"
     ]
    }
   ],
   "source": [
    "print(confusion_matrix(y_test,pred))"
   ]
  },
  {
   "cell_type": "markdown",
   "metadata": {},
   "source": [
    "# Running a Deep Learning model"
   ]
  },
  {
   "cell_type": "code",
   "execution_count": 51,
   "metadata": {},
   "outputs": [],
   "source": [
    "import tensorflow as tf\n",
    "from tensorflow.keras.models import Sequential\n",
    "from tensorflow.keras.layers import Dense"
   ]
  },
  {
   "cell_type": "markdown",
   "metadata": {},
   "source": [
    "## Sequential Model"
   ]
  },
  {
   "cell_type": "code",
   "execution_count": 52,
   "metadata": {},
   "outputs": [],
   "source": [
    "model = Sequential()\n",
    "\n",
    "model.add(Dense(units=128,activation='relu'))\n",
    "\n",
    "model.add(Dense(units=64,activation='relu'))\n",
    "\n",
    "model.add(Dense(units=32,activation='relu'))\n",
    "\n",
    "model.add(Dense(units=1,activation='sigmoid'))"
   ]
  },
  {
   "cell_type": "markdown",
   "metadata": {},
   "source": [
    "## Functional API"
   ]
  },
  {
   "cell_type": "code",
   "execution_count": 53,
   "metadata": {},
   "outputs": [],
   "source": [
    "# input = tf.keras.layers.Input(shape=(15,))\n",
    "# layers = tf.keras.layers.Dense(256, activation='relu')(input)\n",
    "# layers = tf.keras.layers.Dense(256, activation='relu')(layers)\n",
    "# layers = tf.keras.layers.Dense(128, activation='relu')(layers)\n",
    "# output = tf.keras.layers.Dense(1, activation='sigmoid')(layers)\n",
    "\n",
    "# model = tf.keras.Model(input, output)"
   ]
  },
  {
   "cell_type": "markdown",
   "metadata": {},
   "source": [
    "Now we will try to run a deep learning model."
   ]
  },
  {
   "cell_type": "code",
   "execution_count": 54,
   "metadata": {},
   "outputs": [
    {
     "name": "stderr",
     "output_type": "stream",
     "text": [
      "2022-04-11 21:57:10.143965: I tensorflow/core/platform/cpu_feature_guard.cc:145] This TensorFlow binary is optimized with Intel(R) MKL-DNN to use the following CPU instructions in performance critical operations:  SSE4.1 SSE4.2\n",
      "To enable them in non-MKL-DNN operations, rebuild TensorFlow with the appropriate compiler flags.\n",
      "2022-04-11 21:57:10.144774: I tensorflow/core/common_runtime/process_util.cc:115] Creating new thread pool with default inter op setting: 10. Tune using inter_op_parallelism_threads for best performance.\n"
     ]
    },
    {
     "name": "stdout",
     "output_type": "stream",
     "text": [
      "Train on 6076 samples, validate on 4051 samples\n",
      "Epoch 1/60\n",
      "6076/6076 [==============================] - 1s 160us/sample - loss: 0.6132 - val_loss: 0.5100\n",
      "Epoch 2/60\n",
      "6076/6076 [==============================] - 0s 39us/sample - loss: 0.4501 - val_loss: 0.4140\n",
      "Epoch 3/60\n",
      "6076/6076 [==============================] - 0s 41us/sample - loss: 0.4078 - val_loss: 0.4007\n",
      "Epoch 4/60\n",
      "6076/6076 [==============================] - 0s 39us/sample - loss: 0.3833 - val_loss: 0.3731\n",
      "Epoch 5/60\n",
      "6076/6076 [==============================] - 0s 43us/sample - loss: 0.3560 - val_loss: 0.3436\n",
      "Epoch 6/60\n",
      "6076/6076 [==============================] - 0s 38us/sample - loss: 0.3275 - val_loss: 0.3171\n",
      "Epoch 7/60\n",
      "6076/6076 [==============================] - 0s 36us/sample - loss: 0.3058 - val_loss: 0.2949\n",
      "Epoch 8/60\n",
      "6076/6076 [==============================] - 0s 38us/sample - loss: 0.2874 - val_loss: 0.2765\n",
      "Epoch 9/60\n",
      "6076/6076 [==============================] - 0s 40us/sample - loss: 0.2740 - val_loss: 0.2654\n",
      "Epoch 10/60\n",
      "6076/6076 [==============================] - 0s 42us/sample - loss: 0.2626 - val_loss: 0.2541\n",
      "Epoch 11/60\n",
      "6076/6076 [==============================] - 0s 40us/sample - loss: 0.2567 - val_loss: 0.2466\n",
      "Epoch 12/60\n",
      "6076/6076 [==============================] - 0s 39us/sample - loss: 0.2457 - val_loss: 0.2376\n",
      "Epoch 13/60\n",
      "6076/6076 [==============================] - 0s 39us/sample - loss: 0.2389 - val_loss: 0.2313\n",
      "Epoch 14/60\n",
      "6076/6076 [==============================] - 0s 36us/sample - loss: 0.2345 - val_loss: 0.2263\n",
      "Epoch 15/60\n",
      "6076/6076 [==============================] - 0s 34us/sample - loss: 0.2275 - val_loss: 0.2284\n",
      "Epoch 16/60\n",
      "6076/6076 [==============================] - 0s 35us/sample - loss: 0.2234 - val_loss: 0.2156\n",
      "Epoch 17/60\n",
      "6076/6076 [==============================] - 0s 36us/sample - loss: 0.2171 - val_loss: 0.2120\n",
      "Epoch 18/60\n",
      "6076/6076 [==============================] - 0s 34us/sample - loss: 0.2136 - val_loss: 0.2086\n",
      "Epoch 19/60\n",
      "6076/6076 [==============================] - 0s 34us/sample - loss: 0.2107 - val_loss: 0.2044\n",
      "Epoch 20/60\n",
      "6076/6076 [==============================] - 0s 35us/sample - loss: 0.2079 - val_loss: 0.2032\n",
      "Epoch 21/60\n",
      "6076/6076 [==============================] - 0s 36us/sample - loss: 0.2047 - val_loss: 0.2012\n",
      "Epoch 22/60\n",
      "6076/6076 [==============================] - 0s 35us/sample - loss: 0.2032 - val_loss: 0.1986\n",
      "Epoch 23/60\n",
      "6076/6076 [==============================] - 0s 32us/sample - loss: 0.1983 - val_loss: 0.1942\n",
      "Epoch 24/60\n",
      "6076/6076 [==============================] - 0s 35us/sample - loss: 0.1954 - val_loss: 0.1922\n",
      "Epoch 25/60\n",
      "6076/6076 [==============================] - 0s 33us/sample - loss: 0.1925 - val_loss: 0.1899\n",
      "Epoch 26/60\n",
      "6076/6076 [==============================] - 0s 37us/sample - loss: 0.1891 - val_loss: 0.1932\n",
      "Epoch 27/60\n",
      "6076/6076 [==============================] - 0s 36us/sample - loss: 0.1862 - val_loss: 0.1890\n",
      "Epoch 28/60\n",
      "6076/6076 [==============================] - 0s 33us/sample - loss: 0.1852 - val_loss: 0.1868\n",
      "Epoch 29/60\n",
      "6076/6076 [==============================] - 0s 34us/sample - loss: 0.1841 - val_loss: 0.1819\n",
      "Epoch 30/60\n",
      "6076/6076 [==============================] - 0s 39us/sample - loss: 0.1811 - val_loss: 0.1785\n",
      "Epoch 31/60\n",
      "6076/6076 [==============================] - 0s 33us/sample - loss: 0.1771 - val_loss: 0.1769\n",
      "Epoch 32/60\n",
      "6076/6076 [==============================] - 0s 33us/sample - loss: 0.1732 - val_loss: 0.1749\n",
      "Epoch 33/60\n",
      "6076/6076 [==============================] - 0s 35us/sample - loss: 0.1704 - val_loss: 0.1738\n",
      "Epoch 34/60\n",
      "6076/6076 [==============================] - 0s 35us/sample - loss: 0.1735 - val_loss: 0.1735\n",
      "Epoch 35/60\n",
      "6076/6076 [==============================] - 0s 32us/sample - loss: 0.1696 - val_loss: 0.1717\n",
      "Epoch 36/60\n",
      "6076/6076 [==============================] - 0s 36us/sample - loss: 0.1687 - val_loss: 0.1709\n",
      "Epoch 37/60\n",
      "6076/6076 [==============================] - 0s 33us/sample - loss: 0.1649 - val_loss: 0.1708\n",
      "Epoch 38/60\n",
      "6076/6076 [==============================] - 0s 33us/sample - loss: 0.1657 - val_loss: 0.1679\n",
      "Epoch 39/60\n",
      "6076/6076 [==============================] - 0s 34us/sample - loss: 0.1607 - val_loss: 0.1693\n",
      "Epoch 40/60\n",
      "6076/6076 [==============================] - 0s 32us/sample - loss: 0.1587 - val_loss: 0.1678\n",
      "Epoch 41/60\n",
      "6076/6076 [==============================] - 0s 38us/sample - loss: 0.1573 - val_loss: 0.1664\n",
      "Epoch 42/60\n",
      "6076/6076 [==============================] - 0s 33us/sample - loss: 0.1616 - val_loss: 0.1667\n",
      "Epoch 43/60\n",
      "6076/6076 [==============================] - 0s 44us/sample - loss: 0.1570 - val_loss: 0.1676\n",
      "Epoch 44/60\n",
      "6076/6076 [==============================] - 0s 34us/sample - loss: 0.1548 - val_loss: 0.1652\n",
      "Epoch 45/60\n",
      "6076/6076 [==============================] - 0s 36us/sample - loss: 0.1559 - val_loss: 0.1634\n",
      "Epoch 46/60\n",
      "6076/6076 [==============================] - 0s 34us/sample - loss: 0.1522 - val_loss: 0.1654\n",
      "Epoch 47/60\n",
      "6076/6076 [==============================] - 0s 33us/sample - loss: 0.1502 - val_loss: 0.1621\n",
      "Epoch 48/60\n",
      "6076/6076 [==============================] - 0s 35us/sample - loss: 0.1511 - val_loss: 0.1731\n",
      "Epoch 49/60\n",
      "6076/6076 [==============================] - 0s 37us/sample - loss: 0.1490 - val_loss: 0.1659\n",
      "Epoch 50/60\n",
      "6076/6076 [==============================] - 0s 33us/sample - loss: 0.1512 - val_loss: 0.1633\n",
      "Epoch 51/60\n",
      "6076/6076 [==============================] - 0s 34us/sample - loss: 0.1476 - val_loss: 0.1612\n",
      "Epoch 52/60\n",
      "6076/6076 [==============================] - 0s 33us/sample - loss: 0.1476 - val_loss: 0.1614\n",
      "Epoch 53/60\n",
      "6076/6076 [==============================] - 0s 33us/sample - loss: 0.1501 - val_loss: 0.1756\n",
      "Epoch 54/60\n",
      "6076/6076 [==============================] - 0s 33us/sample - loss: 0.1473 - val_loss: 0.1605\n",
      "Epoch 55/60\n",
      "6076/6076 [==============================] - 0s 33us/sample - loss: 0.1440 - val_loss: 0.1665\n",
      "Epoch 56/60\n",
      "6076/6076 [==============================] - 0s 40us/sample - loss: 0.1437 - val_loss: 0.1606\n",
      "Epoch 57/60\n",
      "6076/6076 [==============================] - 0s 33us/sample - loss: 0.1414 - val_loss: 0.1605\n",
      "Epoch 58/60\n",
      "6076/6076 [==============================] - 0s 33us/sample - loss: 0.1421 - val_loss: 0.1630\n",
      "Epoch 59/60\n",
      "6076/6076 [==============================] - 0s 32us/sample - loss: 0.1408 - val_loss: 0.1588\n",
      "Epoch 60/60\n",
      "6076/6076 [==============================] - 0s 33us/sample - loss: 0.1422 - val_loss: 0.1597\n"
     ]
    },
    {
     "data": {
      "text/plain": [
       "<tensorflow.python.keras.callbacks.History at 0x7ff3330e7b90>"
      ]
     },
     "execution_count": 54,
     "metadata": {},
     "output_type": "execute_result"
    }
   ],
   "source": [
    "model.compile(loss='binary_crossentropy', optimizer='adam')\n",
    "model.fit(X_train,y_train,\n",
    "          validation_data=(X_test,y_test),\n",
    "          epochs=60,\n",
    "          batch_size=512,\n",
    "          )"
   ]
  },
  {
   "cell_type": "code",
   "execution_count": 61,
   "metadata": {},
   "outputs": [],
   "source": [
    "losses = pd.DataFrame(model.history.history)"
   ]
  },
  {
   "cell_type": "code",
   "execution_count": 62,
   "metadata": {},
   "outputs": [
    {
     "data": {
      "text/plain": [
       "(0.0, 40.0)"
      ]
     },
     "execution_count": 62,
     "metadata": {},
     "output_type": "execute_result"
    },
    {
     "data": {
      "image/png": "[encoded data removed]",
      "text/plain": [
       "<Figure size 432x288 with 1 Axes>"
      ]
     },
     "metadata": {
      "needs_background": "light"
     },
     "output_type": "display_data"
    }
   ],
   "source": [
    "losses.plot()\n",
    "plt.xlabel('Epochs')\n",
    "plt.ylabel('Loss')\n",
    "plt.xlim(0, 40)"
   ]
  },
  {
   "cell_type": "code",
   "execution_count": 63,
   "metadata": {},
   "outputs": [],
   "source": [
    "pred1 = model.predict_classes(X_test)"
   ]
  },
  {
   "cell_type": "code",
   "execution_count": 64,
   "metadata": {},
   "outputs": [],
   "source": [
    "from sklearn.metrics import classification_report,confusion_matrix"
   ]
  },
  {
   "cell_type": "code",
   "execution_count": 65,
   "metadata": {},
   "outputs": [
    {
     "name": "stdout",
     "output_type": "stream",
     "text": [
      "              precision    recall  f1-score   support\n",
      "\n",
      "           0       0.83      0.79      0.81       656\n",
      "           1       0.96      0.97      0.96      3395\n",
      "\n",
      "    accuracy                           0.94      4051\n",
      "   macro avg       0.90      0.88      0.89      4051\n",
      "weighted avg       0.94      0.94      0.94      4051\n",
      "\n"
     ]
    }
   ],
   "source": [
    "print(classification_report(y_test,pred1))"
   ]
  },
  {
   "cell_type": "code",
   "execution_count": 66,
   "metadata": {},
   "outputs": [
    {
     "name": "stdout",
     "output_type": "stream",
     "text": [
      "[[ 519  137]\n",
      " [ 105 3290]]\n"
     ]
    }
   ],
   "source": [
    "print(confusion_matrix(y_test,pred1))"
   ]
  }
 ],
 "metadata": {
  "interpreter": {
   "hash": "9a14b382325c67c5807380877d7fc174fdae069d51bd0bde0418cf60d22967c2"
  },
  "kernelspec": {
   "display_name": "Python 3.9.7 ('base')",
   "language": "python",
   "name": "python3"
  },
  "language_info": {
   "codemirror_mode": {
    "name": "ipython",
    "version": 3
   },
   "file_extension": ".py",
   "mimetype": "text/x-python",
   "name": "python",
   "nbconvert_exporter": "python",
   "pygments_lexer": "ipython3",
   "version": "3.7.11"
  },
  "orig_nbformat": 4
 },
 "nbformat": 4,
 "nbformat_minor": 2
}
